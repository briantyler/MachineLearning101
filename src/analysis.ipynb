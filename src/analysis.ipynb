{
 "cells": [
  {
   "cell_type": "code",
   "execution_count": 1,
   "metadata": {
    "collapsed": true
   },
   "outputs": [],
   "source": [
    "# import modules\n",
    "\n",
    "import pandas as pd\n",
    "import os\n",
    "import numpy as np\n",
    "from sklearn.model_selection import train_test_split\n",
    "from sklearn.decomposition import PCA\n",
    "\n",
    "pd.set_option('display.max_columns', None)"
   ]
  },
  {
   "cell_type": "code",
   "execution_count": 2,
   "metadata": {
    "collapsed": true
   },
   "outputs": [],
   "source": [
    "# read source data\n",
    "\n",
    "df = pd.read_csv(os.path.realpath('../data/diabetic_data.csv'))\n",
    "\n",
    "admission_source_df = pd\\\n",
    "    .read_csv(os.path.realpath('../data/admission_source_id.csv'))\\\n",
    "    .rename(columns = {'description' : 'admission_source_description'})\n",
    "\n",
    "admission_type_df = pd\\\n",
    "    .read_csv(os.path.realpath('../data/admission_type_id.csv'))\\\n",
    "    .rename(columns = {'description' : 'admission_type_description'})\n",
    "    \n",
    "discharge_disposition_df = pd\\\n",
    "    .read_csv(os.path.realpath('../data/discharge_disposition_id.csv'))\\\n",
    "    .rename(columns = {'description' : 'discharge_disposition_description'})"
   ]
  },
  {
   "cell_type": "code",
   "execution_count": 3,
   "metadata": {
    "collapsed": true
   },
   "outputs": [],
   "source": [
    "# remove the ID columns. note that there are multiple encounters for some patients\n",
    "# however it is not clear how to model these, so assume the encounters are independent\n",
    "# of the patient\n",
    "\n",
    "df.drop(['encounter_id', 'patient_nbr'], axis=1, inplace=True)"
   ]
  },
  {
   "cell_type": "code",
   "execution_count": 4,
   "metadata": {
    "collapsed": true
   },
   "outputs": [],
   "source": [
    "# create merged data frame\n",
    "\n",
    "df = pd.merge(df, admission_source_df, on='admission_source_id')\n",
    "df = pd.merge(df, admission_type_df, on='admission_type_id')\n",
    "df = pd.merge(df, discharge_disposition_df, on='discharge_disposition_id')"
   ]
  },
  {
   "cell_type": "code",
   "execution_count": 5,
   "metadata": {
    "collapsed": true
   },
   "outputs": [],
   "source": [
    "# remove old index columns\n",
    "\n",
    "df.drop(['admission_source_id', 'admission_type_id', 'discharge_disposition_id'], axis=1, inplace=True)"
   ]
  },
  {
   "cell_type": "code",
   "execution_count": 6,
   "metadata": {
    "collapsed": true
   },
   "outputs": [],
   "source": [
    "# replace the ? + NaNs with empty strings\n",
    "\n",
    "df.replace('?', '', inplace = True)\n",
    "df.fillna('', inplace=True)"
   ]
  },
  {
   "cell_type": "code",
   "execution_count": 7,
   "metadata": {
    "collapsed": true
   },
   "outputs": [],
   "source": [
    "# categorize the non-numerical columns and convert to numbers\n",
    "# note that a lot of these should be ordered, but that can be done later\n",
    "\n",
    "category_columns = [\"race\", \"gender\", \"age\", \"weight\", \"payer_code\", \"medical_specialty\", \n",
    "                    # these are medical diagnosis codes, see:\n",
    "                    # https://www.cms.gov/regulations-and-guidance/guidance/transmittals/downloads/r1996cp.pdf\n",
    "                    \"diag_1\", \"diag_2\", \"diag_3\",\n",
    "                    \"max_glu_serum\", \"A1Cresult\", \"metformin\", \"repaglinide\", \"nateglinide\", \"chlorpropamide\",\n",
    "                    \"glimepiride\", \"acetohexamide\", \"glipizide\", \"glyburide\", \"tolbutamide\", \"pioglitazone\", \n",
    "                    \"rosiglitazone\", \"acarbose\", \"miglitol\", \"troglitazone\", \"tolazamide\", \"examide\", \n",
    "                    \"citoglipton\", \"insulin\", \"glyburide-metformin\", \"glipizide-metformin\", \n",
    "                    \"glimepiride-pioglitazone\", \"metformin-rosiglitazone\", \"metformin-pioglitazone\", \n",
    "                    \"change\", \"diabetesMed\", \"readmitted\", \"admission_source_description\", \n",
    "                    \"admission_type_description\", \"discharge_disposition_description\"]\n",
    "\n",
    "for column in category_columns:\n",
    "    df[column] = df[column].astype('category')\n",
    "    df[column] = df[column].cat.codes"
   ]
  },
  {
   "cell_type": "code",
   "execution_count": 8,
   "metadata": {},
   "outputs": [
    {
     "name": "stdout",
     "output_type": "stream",
     "text": [
      "number of columns: 41\n"
     ]
    }
   ],
   "source": [
    "# remove all of the columns where a single value comprises almost all of the values\n",
    "# this gets rid of a lot of columns; it might discard some key information, but\n",
    "# this can be put back later\n",
    "\n",
    "rows = len(df.index)\n",
    "threshold = 0.99995 * rows\n",
    "\n",
    "for column in df.columns.values:\n",
    "    if (df[column].value_counts().tolist()[0] >= threshold):\n",
    "        df.drop([column], axis=1, inplace=True)\n",
    "        \n",
    "print(\"number of columns: {0}\".format(len(df.columns)))"
   ]
  },
  {
   "cell_type": "code",
   "execution_count": 9,
   "metadata": {},
   "outputs": [],
   "source": [
    "# possibly do a dimensional reduction here if we can work out how\n",
    "# http://scikit-learn.org/stable/modules/generated/sklearn.decomposition.PCA.html\n",
    "\n",
    "pca = PCA(n_components = \"mle\", svd_solver = \"full\")\n",
    "fit = pca.fit(df)"
   ]
  },
  {
   "cell_type": "code",
   "execution_count": 10,
   "metadata": {
    "collapsed": true
   },
   "outputs": [],
   "source": [
    "# build training and test data frames\n",
    "\n",
    "train, test = train_test_split(df, random_state=3331)"
   ]
  },
  {
   "cell_type": "code",
   "execution_count": 11,
   "metadata": {},
   "outputs": [],
   "source": [
    "# start to build the TF model"
   ]
  }
 ],
 "metadata": {
  "kernelspec": {
   "display_name": "Python 3",
   "language": "python",
   "name": "python3"
  },
  "language_info": {
   "codemirror_mode": {
    "name": "ipython",
    "version": 3
   },
   "file_extension": ".py",
   "mimetype": "text/x-python",
   "name": "python",
   "nbconvert_exporter": "python",
   "pygments_lexer": "ipython3",
   "version": "3.5.2"
  }
 },
 "nbformat": 4,
 "nbformat_minor": 2
}
